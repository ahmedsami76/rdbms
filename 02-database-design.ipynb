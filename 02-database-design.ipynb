{
 "cells": [
  {
   "cell_type": "markdown",
   "id": "0570455a-9ac9-496f-b4f5-d0c4fe982d4a",
   "metadata": {},
   "source": [
    "![Edgar Codd](./images/Edgar_F_Codd.jpg)"
   ]
  },
  {
   "cell_type": "markdown",
   "id": "62d91f60",
   "metadata": {},
   "source": [
    "![Ramez Elmasri](./images/Elmasri.jpg)"
   ]
  },
  {
   "cell_type": "markdown",
   "id": "9a99ac8f",
   "metadata": {},
   "source": [
    "## [Fundamentals of Database Systems](https://www.amazon.com/Fundamentals-Database-Systems-Ramez-Elmasri/dp/0133970779)"
   ]
  },
  {
   "cell_type": "markdown",
   "id": "1d654fad",
   "metadata": {},
   "source": [
    "# [Murach's MySQL (3rd Edition)](https://www.amazon.com/Murachs-MySQL-3rd-Joel-Murach/dp/1943872368/ref=sr_1_5?crid=2WVNPKJJ9KZOZ&keywords=mysql&qid=1654134519&sprefix=mysql%2Caps%2C72&sr=8-5&asin=1943872368&revisionId=&format=4&depth=1)"
   ]
  },
  {
   "cell_type": "markdown",
   "id": "fdbd0efe-295f-425d-ae73-8542670580cc",
   "metadata": {},
   "source": [
    "# Modeling and Designing Databases"
   ]
  },
  {
   "cell_type": "markdown",
   "id": "fd67c89f-22a7-4cf4-804a-985815ad9790",
   "metadata": {},
   "source": [
    "## An Amateur Approach"
   ]
  },
  {
   "cell_type": "raw",
   "id": "67d7213c-20b3-4fa8-be20-628b360721c7",
   "metadata": {},
   "source": [
    "+------------+---------+-----------------------+------+\n",
    "| GivenNames | Surname | CourseName            | Pctg |\n",
    "+------------+---------+-----------------------+------+\n",
    "| John Paul  | Bloggs  | Data Science          |   72 |\n",
    "| Sarah      | Doe     | Programming 1         |   87 |\n",
    "| John Paul  | Bloggs  | Computing Mathematics |   43 |\n",
    "| John Paul  | Bloggs  | Computing Mathematics |   65 |\n",
    "| Sarah      | Doe     | Data Science          |   65 |\n",
    "| Susan      | Smith   | Computing Mathematics |   75 |\n",
    "| Susan      | Smith   | Programming 1         |   55 |\n",
    "| Susan      | Smith   | Computing Mathematics |   80 |\n",
    "+------------+---------+-----------------------+------+"
   ]
  },
  {
   "cell_type": "raw",
   "id": "dcf682d4-361b-42dd-ba46-a3f18c468461",
   "metadata": {},
   "source": [
    "which Susan is which?"
   ]
  },
  {
   "cell_type": "raw",
   "id": "917c36cb-7269-4477-b961-2248edf34d25",
   "metadata": {},
   "source": [
    "+------------+------------+---------+-----------------------+------+\n",
    "| StudentID  | GivenNames | Surname | CourseName            | Pctg |\n",
    "+------------+------------+---------+-----------------------+------+\n",
    "| 12345678   | John Paul  | Bloggs  | Data Science          |   72 |\n",
    "| 12345121   | Sarah      | Doe     | Programming 1         |   87 |\n",
    "| 12345678   | John Paul  | Bloggs  | Computing Mathematics |   43 |\n",
    "| 12345678   | John Paul  | Bloggs  | Computing Mathematics |   65 |\n",
    "| 12345121   | Sarah      | Doe     | Data Science          |   65 |\n",
    "| 12345876   | Susan      | Smith   | Computing Mathematics |   75 |\n",
    "| 12345876   | Susan      | Smith   | Programming 1         |   55 |\n",
    "| 12345303   | Susan      | Smith   | Computing Mathematics |   80 |\n",
    "+------------+------------+---------+-----------------------+------+"
   ]
  },
  {
   "cell_type": "raw",
   "id": "3cb1226d-a195-4427-a4d8-d69ff0049eb8",
   "metadata": {},
   "source": [
    "did John Paul pass or fail?"
   ]
  },
  {
   "cell_type": "raw",
   "id": "283c2b5c-4175-44eb-a60f-a05e50107994",
   "metadata": {},
   "source": [
    "+------------+------------+---------+-----------------------+------+-----+------+\n",
    "| StudentID  | GivenNames | Surname | CourseName            | Year | Sem | Pctg |\n",
    "+------------+------------+---------+-----------------------+------+-----+------+\n",
    "| 12345678   | John Paul  | Bloggs  | Data Science          | 2019 |   2 |   72 |\n",
    "| 12345121   | Sarah      | Doe     | Programming 1         | 2020 |   1 |   87 |\n",
    "| 12345678   | John Paul  | Bloggs  | Computing Mathematics | 2019 |   2 |   43 |\n",
    "| 12345678   | John Paul  | Bloggs  | Computing Mathematics | 2020 |   1 |   65 |\n",
    "| 12345121   | Sarah      | Doe     | Data Science          | 2020 |   1 |   65 |\n",
    "| 12345876   | Susan      | Smith   | Computing Mathematics | 2019 |   1 |   75 |\n",
    "| 12345876   | Susan      | Smith   | Programming 1         | 2019 |   2 |   55 |\n",
    "| 12345303   | Susan      | Smith   | Computing Mathematics | 2020 |   1 |   80 |\n",
    "+------------+------------+---------+-----------------------+------+-----+------+"
   ]
  },
  {
   "cell_type": "raw",
   "id": "f0a9f7bd-0374-4d29-94a0-d1776c9ee0b8",
   "metadata": {},
   "source": [
    "can I infer one column from another?"
   ]
  },
  {
   "cell_type": "raw",
   "id": "e229378d-b69d-45f6-9a6f-4c288915b7d0",
   "metadata": {},
   "source": [
    "Student_Details\n",
    "+------------+------------+---------+\n",
    "| StudentID  | GivenNames | Surname |\n",
    "+------------+------------+---------+\n",
    "| 12345121   | Sarah      | Doe     |\n",
    "| 12345303   | Susan      | Smith   |\n",
    "| 12345678   | John Paul  | Bloggs  |\n",
    "| 12345876   | Susan      | Smith   |\n",
    "+------------+------------+---------+\n",
    "\n",
    "Student_Details\n",
    "+------------+-----------------------+------+-----+------+\n",
    "| StudentID  | CourseName            | Year | Sem | Pctg |\n",
    "+------------+-----------------------+------+-----+------+\n",
    "| 12345678   | Data Science          | 2019 |   2 |   72 |\n",
    "| 12345121   | Programming 1         | 2020 |   1 |   87 |\n",
    "| 12345678   | Computing Mathematics | 2019 |   2 |   43 |\n",
    "| 12345678   | Computing Mathematics | 2020 |   1 |   65 |\n",
    "| 12345121   | Data Science          | 2020 |   1 |   65 |\n",
    "| 12345876   | Computing Mathematics | 2019 |   1 |   75 |\n",
    "| 12345876   | Programming 1         | 2019 |   2 |   55 |\n",
    "| 12345303   | Computing Mathematics | 2020 |   1 |   80 |\n",
    "+------------+-----------------------+------+-----+------+"
   ]
  },
  {
   "cell_type": "raw",
   "id": "9c937295-ff4f-43b2-ae28-bfb9db5bada7",
   "metadata": {},
   "source": [
    "should we keep information on a student’s enrollment date, postal and email addresses, fees, or attendance? Should we store different types of postal addresses?"
   ]
  },
  {
   "cell_type": "markdown",
   "id": "f2478a0d-3c48-483d-8e0c-b61901ed6994",
   "metadata": {},
   "source": [
    "## The Database Design Process"
   ]
  },
  {
   "cell_type": "markdown",
   "id": "8eea7cb6-d44d-49a7-b3fd-ff46e84c91e1",
   "metadata": {},
   "source": [
    "- **_Requirements analysis_**\n",
    "- **_Conceptual design_**\n",
    "- **_Logical design_**"
   ]
  },
  {
   "cell_type": "markdown",
   "id": "bcbadd65-25b7-4899-829a-e111a8c7ebb4",
   "metadata": {},
   "source": [
    "## The Entity Relationship Model"
   ]
  },
  {
   "cell_type": "raw",
   "id": "d300ad1b-9838-4bbd-a4f8-70195eb96fc1",
   "metadata": {},
   "source": [
    "At a basic level, databases store information about distinct objects, or entities, and the associations, or relationships, between these entities\n",
    "A popular approach to conceptual design uses the Entity Relationship (ER) model"
   ]
  },
  {
   "cell_type": "markdown",
   "id": "6e9c35a9-fe4f-4277-a46c-4aaa2a4d2e36",
   "metadata": {},
   "source": [
    "### Representing Entities"
   ]
  },
  {
   "cell_type": "raw",
   "id": "ffae7d10-5ad2-45fb-9e80-eebf96c51b6c",
   "metadata": {},
   "source": [
    "Entities - Attributes - Keys - Relations"
   ]
  },
  {
   "cell_type": "markdown",
   "id": "d0e963e5-0718-45cb-857f-d6f6317bdbd0",
   "metadata": {},
   "source": [
    "## Representing Relationships"
   ]
  },
  {
   "cell_type": "markdown",
   "id": "ac59f2f4-c989-4538-9e41-cec16cb18e19",
   "metadata": {},
   "source": [
    "## Partial and Total Participation"
   ]
  },
  {
   "cell_type": "markdown",
   "id": "ac5fa128-940d-4553-b888-909e6b18511b",
   "metadata": {},
   "source": [
    "# Database Normalization"
   ]
  },
  {
   "cell_type": "markdown",
   "id": "2e652215-1d8b-466f-be6f-60e98e1095a4",
   "metadata": {},
   "source": [
    "**The first normal form (1NF) has the following goals**  \n",
    "- Eliminate repeating groups in individual tables.\n",
    "- Create a separate table for each set of related data.\n",
    "- Identify each set of related data with a primary key."
   ]
  },
  {
   "cell_type": "markdown",
   "id": "ec88ae83-a5d4-4179-8790-6554a364c43b",
   "metadata": {},
   "source": [
    "**The goals of second normal form (2NF) are** \n",
    "- Create separate tables for sets of values that apply to multiple records.\n",
    "- Relate these tables with a foreign key."
   ]
  },
  {
   "cell_type": "markdown",
   "id": "faf3ff5d-0916-4387-a1a1-f62c461032b4",
   "metadata": {},
   "source": [
    "**Third normal form (3NF) adds one more goal**\n",
    "- Eliminate fields that do not depend on the key."
   ]
  },
  {
   "cell_type": "raw",
   "id": "d091eaa0-3c5b-47e5-bf92-9e2c568d9c6f",
   "metadata": {},
   "source": [
    "Denormalized\n",
    "Student#   Advisor   Adv-Room   Class1   Class2   Class3\n",
    "1022       Jones     412        101-07   143-01   159-02\n",
    "4123       Smith     216        201-01   211-02   214-01"
   ]
  },
  {
   "cell_type": "raw",
   "id": "540bdc19-6b3f-4102-a810-19fbf4d241df",
   "metadata": {},
   "source": [
    "1NF\n",
    "Student#   Advisor   Adv-Room   Class#\n",
    "1022       Jones     412        101-07\n",
    "1022       Jones     412        143-01\n",
    "1022       Jones     412        159-02\n",
    "4123       Smith     216        201-01\n",
    "4123       Smith     216        211-02\n",
    "4123       Smith     216        214-01"
   ]
  },
  {
   "cell_type": "raw",
   "id": "91daf4c6-b3a8-4c9d-b932-536510f1e9bf",
   "metadata": {},
   "source": [
    "2NF\n",
    "Students\n",
    "---\n",
    "Student#    Advisor   Adv-Room\n",
    "1022        Jones     412\n",
    "4123        Smith     216\n",
    "\n",
    "Registration\n",
    "---\n",
    "Student#  Class#\n",
    "1022      101-07\n",
    "1022      143-01\n",
    "1022      159-02\n",
    "4123      201-01\n",
    "4123      211-02\n",
    "4123      214-01"
   ]
  },
  {
   "cell_type": "raw",
   "id": "d48d4672-d31e-457e-913e-1aa0813a77c8",
   "metadata": {},
   "source": [
    "3NF\n",
    "Students\n",
    "---\n",
    "Student#  Advisor\n",
    "1022      Jones\n",
    "4123      Smith\n",
    "\n",
    "Faculty\n",
    "---\n",
    "Name  Room  Dept\n",
    "Jones 412 42\n",
    "Smith 216 42\n",
    "\n",
    "Registration\n",
    "---\n",
    "Student#  Class#\n",
    "1022      101-07\n",
    "1022      143-01\n",
    "1022      159-02\n",
    "4123      201-01\n",
    "4123      211-02\n",
    "4123      214-01"
   ]
  },
  {
   "cell_type": "markdown",
   "id": "ac6d57e0-317d-4977-b6dd-c05654a7fb10",
   "metadata": {},
   "source": [
    "# Entity Relationship Modeling Examples"
   ]
  },
  {
   "cell_type": "markdown",
   "id": "6d40adc5-86bd-4d28-ab1c-ed50847e11ca",
   "metadata": {},
   "source": [
    "![alt text](./images/5.png)"
   ]
  },
  {
   "cell_type": "markdown",
   "id": "de35dd2d-61aa-42a9-8250-46b3ac7d5547",
   "metadata": {},
   "source": [
    "**[MySQL Workbench](https://dev.mysql.com/downloads/workbench/)**"
   ]
  },
  {
   "cell_type": "markdown",
   "id": "ca63c218-acbe-4065-a9fe-5eaab7702db2",
   "metadata": {},
   "source": [
    "**Sakila Sample Database**  \n",
    "**World Sample Database**  \n",
    "[Other MySQL Documentation](https://dev.mysql.com/doc/index-other.html)"
   ]
  },
  {
   "cell_type": "markdown",
   "id": "911bfa86-9202-419a-9204-1a80f3d314d9",
   "metadata": {},
   "source": [
    "### Using the Entity Relationship Model"
   ]
  },
  {
   "cell_type": "markdown",
   "id": "bfcec292-b81f-47bf-9c63-a30728899962",
   "metadata": {},
   "source": []
  }
 ],
 "metadata": {
  "kernelspec": {
   "display_name": "Python 3 (ipykernel)",
   "language": "python",
   "name": "python3"
  },
  "language_info": {
   "codemirror_mode": {
    "name": "ipython",
    "version": 3
   },
   "file_extension": ".py",
   "mimetype": "text/x-python",
   "name": "python",
   "nbconvert_exporter": "python",
   "pygments_lexer": "ipython3",
   "version": "3.10.4"
  },
  "toc-autonumbering": true,
  "toc-showcode": true,
  "toc-showmarkdowntxt": false
 },
 "nbformat": 4,
 "nbformat_minor": 5
}
